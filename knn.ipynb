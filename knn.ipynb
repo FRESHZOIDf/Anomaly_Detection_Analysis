{
 "cells": [
  {
   "cell_type": "markdown",
   "metadata": {},
   "source": [
    "# https://stackabuse.com/k-nearest-neighbors-algorithm-in-python-and-scikit-learn/"
   ]
  },
  {
   "cell_type": "code",
   "execution_count": 305,
   "metadata": {},
   "outputs": [],
   "source": [
    "import numpy as np\n",
    "import matplotlib.pyplot as plt\n",
    "import pandas as pd\n",
    "from sklearn.preprocessing import MinMaxScaler\n",
    "from sklearn.preprocessing import StandardScaler\n",
    "from sklearn.preprocessing import RobustScaler\n",
    "from sklearn.decomposition import PCA"
   ]
  },
  {
   "cell_type": "code",
   "execution_count": 306,
   "metadata": {},
   "outputs": [
    {
     "name": "stdout",
     "output_type": "stream",
     "text": [
      "          F0        Fj        Fm        FI   F300mks    F50mks     t(Fm)  \\\n",
      "0   0.262939  0.104620  1.678068  1.300215  0.261811  0.382466  0.411486   \n",
      "1  -0.098103  0.326437  1.268537  0.856298  0.083020  0.045723 -0.027775   \n",
      "2   0.172679  0.331058  1.019256  1.057118  0.109839  0.031082  1.321383   \n",
      "3   0.019236  0.391133  1.105317  1.064164  0.570225  0.309261  0.474237   \n",
      "4   0.885736  0.811659 -1.844498 -1.641614  0.780305  1.253606 -1.157303   \n",
      "..       ...       ...       ...       ...       ...       ...       ...   \n",
      "56 -0.332780 -0.052500  0.844167  0.722419 -0.203045 -0.312981  0.317358   \n",
      "57  0.416382  1.440139  0.482117  0.831636  0.972505  0.419069 -0.718042   \n",
      "58 -0.224467  0.589843  0.241740  0.426474  1.106598 -0.210494 -0.247406   \n",
      "59 -0.639665 -0.801129  0.535534  0.260886 -0.891389 -0.730250  0.317358   \n",
      "60  0.443460  1.259913  0.318898  0.669571  0.976975  0.433710 -0.655291   \n",
      "\n",
      "          Vj        VI  phi P0 (Fv/Fm)  ...    DI0/RC    ET0/RC    RE0/RC  \\\n",
      "0  -1.137770 -1.438963        0.839119  ... -0.548089  1.547979  1.880735   \n",
      "1  -0.627380 -1.514554        0.868221  ... -0.768532  0.395252  1.416806   \n",
      "2  -0.551977 -0.078221        0.568487  ... -0.590259  0.315984 -0.079498   \n",
      "3  -0.504754 -0.322246        0.712444  ... -0.420548  0.973613  0.686654   \n",
      "4   3.285916  1.192798       -2.362714  ...  2.044752 -3.381029 -1.233530   \n",
      "..       ...       ...             ...  ...       ...       ...       ...   \n",
      "56 -0.665090 -0.518180        0.808832  ... -0.713320  0.491500  0.424431   \n",
      "57  0.896965  1.099400        0.096566  ... -0.305877 -1.153086 -1.320309   \n",
      "58  0.373956  0.631113        0.399288  ...  0.024213  0.468179 -0.117467   \n",
      "59 -1.118353 -0.990438        0.855488  ... -0.790641  0.789933  0.799655   \n",
      "60  0.850762  1.148745       -0.026015  ... -0.133396 -0.954192 -1.279774   \n",
      "\n",
      "      RC/CS0        Am        SM        SS         N       Vav  class  \n",
      "0   0.540333  1.588447  0.931282 -0.699535  1.253788 -0.804283    1.0  \n",
      "1   1.050125  1.101075  0.620354  0.593024  0.559188 -0.773746    1.0  \n",
      "2   1.213624  1.027696  0.708499  0.603354  0.648923 -0.064301    1.0  \n",
      "3  -0.057566  1.030657  0.646201 -0.940366  0.995282 -0.459995    1.0  \n",
      "4  -0.941765 -1.895149 -1.904775 -0.265802 -2.044984  1.979871    0.0  \n",
      "..       ...       ...       ...       ...       ...       ...    ...  \n",
      "56  0.558275  0.615091  0.306844  0.453713  0.260825 -0.190569    1.0  \n",
      "57  1.238729 -0.504653 -0.623480  0.696663 -0.756633  0.319019    1.0  \n",
      "58 -1.307864 -0.336983 -0.431143 -1.954865 -0.057767  0.340927    1.0  \n",
      "59  0.388379  0.792477  0.578581  0.804989  0.467131 -0.486567    1.0  \n",
      "60  0.803449 -0.559618 -0.629810  0.207443 -0.693718  0.365237    1.0  \n",
      "\n",
      "[61 rows x 28 columns]\n"
     ]
    }
   ],
   "source": [
    "dataset = pd.read_csv('Dataset_.csv')\n",
    "dataset = dataset.drop(columns=['Day', 'Type'])\n",
    "#x = RobustScaler().fit_transform(df)\n",
    "x = StandardScaler().fit_transform(dataset)\n",
    "#x = MinMaxScaler().fit_transform(df)\n",
    "i=0\n",
    "DF = pd.DataFrame()\n",
    "for column in dataset.columns:\n",
    "    series = pd.Series(x[:,i])\n",
    "    DF.insert(i,column,series)\n",
    "    i+=1\n",
    "series = pd.Series(np.ones(61))\n",
    "series[4:8] = 0\n",
    "DF.insert(len(DF.columns),'class',series)\n",
    "print(DF)"
   ]
  },
  {
   "cell_type": "code",
   "execution_count": 307,
   "metadata": {},
   "outputs": [
    {
     "name": "stdout",
     "output_type": "stream",
     "text": [
      "57\n",
      "57\n"
     ]
    }
   ],
   "source": [
    "x = DF.iloc[:, :-1].values\n",
    "x_outliers = np.array(x[4:8])\n",
    "x_inliers = np.concatenate((x[0:4],x[8:61]),axis=0)\n",
    "print(len(x_inliers))\n",
    "y = DF.iloc[:, len(dataset.columns)].values\n",
    "y_outliers = np.array(y[4:8])\n",
    "y_inliers = np.concatenate((y[0:4],y[8:61]),axis=0)\n",
    "print(len(y_inliers))"
   ]
  },
  {
   "cell_type": "code",
   "execution_count": 308,
   "metadata": {},
   "outputs": [
    {
     "name": "stdout",
     "output_type": "stream",
     "text": [
      "[1. 1. 1. 1. 1. 1. 1. 1. 1. 1. 1. 1. 0. 0.]\n",
      "14\n",
      "47\n",
      "47\n"
     ]
    }
   ],
   "source": [
    "from sklearn.model_selection import train_test_split\n",
    "x_train, x_test, y_train, y_test = train_test_split(x_inliers, y_inliers, test_size=0.20)\n",
    "i = 2\n",
    "x_train = np.concatenate((x_train, x_outliers[0:i]),axis=0)\n",
    "x_test = np.concatenate((x_test, x_outliers[i:4]),axis=0)\n",
    "y_train = np.concatenate((y_train, y_outliers[0:i]),axis=0)\n",
    "y_test = np.concatenate((y_test, y_outliers[i:4]),axis=0)\n",
    "print(y_test)\n",
    "print(len(x_test))\n",
    "print(len(y_train))\n",
    "print(len(x_train))"
   ]
  },
  {
   "cell_type": "code",
   "execution_count": 309,
   "metadata": {},
   "outputs": [],
   "source": [
    "#from sklearn.preprocessing import StandardScaler\n",
    "#scaler = StandardScaler()\n",
    "#scaler.fit(x_train)\n",
    "\n",
    "#x_train = scaler.transform(x_train)\n",
    "#x_test = scaler.transform(x_test)"
   ]
  },
  {
   "cell_type": "code",
   "execution_count": 310,
   "metadata": {},
   "outputs": [
    {
     "data": {
      "text/plain": [
       "KNeighborsClassifier(n_neighbors=2)"
      ]
     },
     "execution_count": 310,
     "metadata": {},
     "output_type": "execute_result"
    }
   ],
   "source": [
    "from sklearn.neighbors import KNeighborsClassifier\n",
    "classifier = KNeighborsClassifier(n_neighbors=2)\n",
    "classifier.fit(x_train, y_train)"
   ]
  },
  {
   "cell_type": "code",
   "execution_count": 311,
   "metadata": {},
   "outputs": [
    {
     "name": "stdout",
     "output_type": "stream",
     "text": [
      "[1. 1. 1. 1. 1. 1. 1. 1. 1. 1. 1. 1. 0. 0.]\n"
     ]
    }
   ],
   "source": [
    "y_pred = classifier.predict(x_test)\n",
    "print(y_pred)"
   ]
  },
  {
   "cell_type": "code",
   "execution_count": 312,
   "metadata": {
    "scrolled": true
   },
   "outputs": [
    {
     "name": "stdout",
     "output_type": "stream",
     "text": [
      "[[ 2  0]\n",
      " [ 0 12]]\n",
      "              precision    recall  f1-score   support\n",
      "\n",
      "         0.0       1.00      1.00      1.00         2\n",
      "         1.0       1.00      1.00      1.00        12\n",
      "\n",
      "    accuracy                           1.00        14\n",
      "   macro avg       1.00      1.00      1.00        14\n",
      "weighted avg       1.00      1.00      1.00        14\n",
      "\n"
     ]
    }
   ],
   "source": [
    "from sklearn.metrics import classification_report, confusion_matrix\n",
    "print(confusion_matrix(y_test, y_pred))\n",
    "print(classification_report(y_test, y_pred))\n",
    "print(y_pred)"
   ]
  },
  {
   "cell_type": "code",
   "execution_count": 313,
   "metadata": {},
   "outputs": [
    {
     "data": {
      "text/plain": [
       "Text(0, 0.5, 'PCA 2')"
      ]
     },
     "execution_count": 313,
     "metadata": {},
     "output_type": "execute_result"
    },
    {
     "data": {
      "image/png": "[encoded data removed]",
      "text/plain": [
       "<Figure size 1440x720 with 1 Axes>"
      ]
     },
     "metadata": {
      "needs_background": "light"
     },
     "output_type": "display_data"
    }
   ],
   "source": [
    "x_pca = np.concatenate((x_test, x_train), axis=0)\n",
    "y_pca = np.concatenate((y_pred, y_train), axis=0)\n",
    "i=0\n",
    "df_pca = pd.DataFrame()\n",
    "for column in dataset.columns:\n",
    "    series = pd.Series(x_pca[:,i])\n",
    "    df_pca.insert(i,column,series)\n",
    "    i+=1\n",
    "series_y_pca = pd.Series(y_pca)\n",
    "df_pca.insert(len(df_pca.columns),'class',series)\n",
    "pca = PCA(n_components=20)\n",
    "principalComponents = pca.fit_transform(df_pca)\n",
    "PCA_components = pd.DataFrame(principalComponents)\n",
    "plt.figure(figsize=(20,10))\n",
    "plt.scatter(PCA_components[0], PCA_components[1], alpha=.1, color='black')\n",
    "plt.xlabel('PCA 1')\n",
    "plt.ylabel('PCA 2')"
   ]
  },
  {
   "cell_type": "code",
   "execution_count": 314,
   "metadata": {},
   "outputs": [
    {
     "data": {
      "text/plain": [
       "Text(0, 0.5, 'PCA 2')"
      ]
     },
     "execution_count": 314,
     "metadata": {},
     "output_type": "execute_result"
    },
    {
     "data": {
      "image/png": "[encoded data removed]",
      "text/plain": [
       "<Figure size 1440x720 with 1 Axes>"
      ]
     },
     "metadata": {
      "needs_background": "light"
     },
     "output_type": "display_data"
    }
   ],
   "source": [
    "fig = plt.figure(figsize=(20,10))\n",
    "ax = fig.add_subplot(111)\n",
    "scatter = ax.scatter(PCA_components[0], PCA_components[1], c=y_pca, cmap='rainbow',s=50)\n",
    "plt.xlabel('PCA 1')\n",
    "plt.ylabel('PCA 2')"
   ]
  },
  {
   "cell_type": "code",
   "execution_count": null,
   "metadata": {},
   "outputs": [],
   "source": []
  }
 ],
 "metadata": {
  "kernelspec": {
   "display_name": "Python 3",
   "language": "python",
   "name": "python3"
  },
  "language_info": {
   "codemirror_mode": {
    "name": "ipython",
    "version": 3
   },
   "file_extension": ".py",
   "mimetype": "text/x-python",
   "name": "python",
   "nbconvert_exporter": "python",
   "pygments_lexer": "ipython3",
   "version": "3.7.5"
  }
 },
 "nbformat": 4,
 "nbformat_minor": 4
}
